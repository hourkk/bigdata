{
 "cells": [
  {
   "cell_type": "code",
   "execution_count": 1,
   "metadata": {},
   "outputs": [],
   "source": [
    "import csv\n",
    "import os\n",
    "import sys\n",
    "import time\n",
    "import pandas as pd\n",
    "import numpy as np\n",
    "from openpyxl import load_workbook\n",
    "\n",
    "from selenium import webdriver"
   ]
  },
  {
   "cell_type": "code",
   "execution_count": 2,
   "metadata": {},
   "outputs": [],
   "source": [
    "#currency = \"USD\" #美金\n",
    "#currency = \"CNY\" #人民幣\n",
    "#currency = \"JPY\" #日圓\n",
    "#currency = \"EUR\" #歐元\n",
    "#currency = \"AUD\" #澳幣\n",
    "currency_list=[\"USD\",\"CNY\",\"JPY\",\"EUR\",\"AUD\"]"
   ]
  },
  {
   "cell_type": "code",
   "execution_count": 3,
   "metadata": {},
   "outputs": [
    {
     "name": "stderr",
     "output_type": "stream",
     "text": [
      "Write USD to csv file...\n"
     ]
    },
    {
     "name": "stdout",
     "output_type": "stream",
     "text": [
      "USDfinish\n"
     ]
    },
    {
     "name": "stderr",
     "output_type": "stream",
     "text": [
      "Write CNY to csv file...\n"
     ]
    },
    {
     "name": "stdout",
     "output_type": "stream",
     "text": [
      "CNYfinish\n"
     ]
    },
    {
     "name": "stderr",
     "output_type": "stream",
     "text": [
      "Write JPY to csv file...\n"
     ]
    },
    {
     "name": "stdout",
     "output_type": "stream",
     "text": [
      "JPYfinish\n"
     ]
    },
    {
     "name": "stderr",
     "output_type": "stream",
     "text": [
      "Write EUR to csv file...\n"
     ]
    },
    {
     "name": "stdout",
     "output_type": "stream",
     "text": [
      "EURfinish\n"
     ]
    },
    {
     "name": "stderr",
     "output_type": "stream",
     "text": [
      "Write AUD to csv file...\n"
     ]
    },
    {
     "name": "stdout",
     "output_type": "stream",
     "text": [
      "AUDfinish\n"
     ]
    }
   ],
   "source": [
    "for currency in currency_list:\n",
    "    # Create a new instance of the Chrome driver\n",
    "    driver = webdriver.Chrome()\n",
    "    # Go to ESun Bank Historical Data page\n",
    "    driver.get(\"https://www.esunbank.com.tw/bank/personal/deposit/rate/forex/exchange-rate-chart\")\n",
    "\n",
    "    # Wait the page to fresh.\n",
    "    time.sleep(10)\n",
    "    # Select the currency menu.\n",
    "    currencyArrow = driver.find_element_by_css_selector(\".transformSelect li span\")\n",
    "    currencyArrow.click()\n",
    "\n",
    "    # Select the currency.\n",
    "    currencyOptions = driver.find_elements_by_css_selector(\".transformSelectDropdown li span\")\n",
    "    for c in currencyOptions:\n",
    "        if currency in c.text:\n",
    "            c.click()\n",
    "            break\n",
    "\n",
    "    # Wait the page to fresh.\n",
    "    time.sleep(3)\n",
    "\n",
    "    spotBtn = driver.find_element_by_css_selector(\".radioBtns [for=\\\"spot\\\"]\")\n",
    "    spotBtn.click()\n",
    "\n",
    "    # Wait the page to fresh.\n",
    "    time.sleep(3)\n",
    "    # Select the duration.\n",
    "    durationBtn = driver.find_element_by_css_selector(\"div [for=\\\"oneYear\\\"]\")\n",
    "    durationBtn.click()\n",
    "\n",
    "    # Wait the page to fresh.\n",
    "    time.sleep(3)\n",
    "\n",
    "    # Select the data type.\n",
    "    dataBtn = driver.find_element_by_css_selector(\".radioBtns [for=\\\"data\\\"]\")\n",
    "    dataBtn.click()\n",
    "\n",
    "    # Wait the page to fresh.\n",
    "    time.sleep(3)\n",
    "\n",
    "    sys.stderr.write(\"Write \"+currency+ \" to csv file...\\n\")\n",
    "    with open(\"currency/\"+\"%sto%s.csv\" % (currency, \"TWD\"), 'w', newline='') as csvfile:\n",
    "        csvwriter = csv.writer(csvfile)\n",
    "\n",
    "        csvwriter.writerow([\"Date\", \"SellingRate\", \"BuyingRate\",\"currency\"])\n",
    "\n",
    "        hasMorePages = True\n",
    "\n",
    "        while hasMorePages:\n",
    "            items = driver.find_elements_by_css_selector(\"#inteTable tbody tr\")\n",
    "\n",
    "            for item in items:\n",
    "                tds = item.find_elements_by_css_selector(\"td\")\n",
    "\n",
    "                if tds[0].get_attribute(\"class\") != \"itemTtitle\":\n",
    "                    continue\n",
    "\n",
    "                csvwriter.writerow([tds[0].text, tds[1].text, tds[2].text,currency])\n",
    "\n",
    "            nextBtn = driver.find_element_by_css_selector(\".pageNumberBlock .down\")\n",
    "            if \"active\" in nextBtn.get_attribute(\"class\"):\n",
    "                nextBtn.click()\n",
    "            else:\n",
    "                hasMorePages = False\n",
    "\n",
    "            time.sleep(1)\n",
    "\n",
    "    time.sleep(4)\n",
    "    # Close the browser.\n",
    "    driver.quit()\n",
    "    time.sleep(1)\n",
    "    print(currency+\" finish\")"
   ]
  },
  {
   "cell_type": "code",
   "execution_count": 7,
   "metadata": {},
   "outputs": [
    {
     "data": {
      "text/plain": [
       "['AUDtoTWD.csv',\n",
       " 'CNYtoTWD.csv',\n",
       " 'EURtoTWD.csv',\n",
       " 'JPYtoTWD.csv',\n",
       " 'USDtoTWD.csv']"
      ]
     },
     "execution_count": 7,
     "metadata": {},
     "output_type": "execute_result"
    }
   ],
   "source": [
    "yourPath = 'currency/'\n",
    "allFileList = os.listdir(yourPath)\n",
    "for file in allFileList:\n",
    "      if os.path.isdir(os.path.join(yourPath,file)):\n",
    "        print(\"I'm a directory: \" + file)\n",
    "allFileList"
   ]
  },
  {
   "cell_type": "code",
   "execution_count": 8,
   "metadata": {},
   "outputs": [
    {
     "data": {
      "text/html": [
       "<div>\n",
       "<style scoped>\n",
       "    .dataframe tbody tr th:only-of-type {\n",
       "        vertical-align: middle;\n",
       "    }\n",
       "\n",
       "    .dataframe tbody tr th {\n",
       "        vertical-align: top;\n",
       "    }\n",
       "\n",
       "    .dataframe thead th {\n",
       "        text-align: right;\n",
       "    }\n",
       "</style>\n",
       "<table border=\"1\" class=\"dataframe\">\n",
       "  <thead>\n",
       "    <tr style=\"text-align: right;\">\n",
       "      <th></th>\n",
       "      <th>Date</th>\n",
       "      <th>SellingRate</th>\n",
       "      <th>BuyingRate</th>\n",
       "      <th>currency</th>\n",
       "    </tr>\n",
       "  </thead>\n",
       "  <tbody>\n",
       "    <tr>\n",
       "      <td>0</td>\n",
       "      <td>2019-01-31</td>\n",
       "      <td>22.27</td>\n",
       "      <td>22.47</td>\n",
       "      <td>AUD</td>\n",
       "    </tr>\n",
       "    <tr>\n",
       "      <td>1</td>\n",
       "      <td>2019-02-01</td>\n",
       "      <td>22.22</td>\n",
       "      <td>22.42</td>\n",
       "      <td>AUD</td>\n",
       "    </tr>\n",
       "    <tr>\n",
       "      <td>2</td>\n",
       "      <td>2019-02-11</td>\n",
       "      <td>21.69</td>\n",
       "      <td>21.89</td>\n",
       "      <td>AUD</td>\n",
       "    </tr>\n",
       "    <tr>\n",
       "      <td>3</td>\n",
       "      <td>2019-02-12</td>\n",
       "      <td>21.76</td>\n",
       "      <td>21.96</td>\n",
       "      <td>AUD</td>\n",
       "    </tr>\n",
       "    <tr>\n",
       "      <td>4</td>\n",
       "      <td>2019-02-13</td>\n",
       "      <td>21.83</td>\n",
       "      <td>22.03</td>\n",
       "      <td>AUD</td>\n",
       "    </tr>\n",
       "    <tr>\n",
       "      <td>...</td>\n",
       "      <td>...</td>\n",
       "      <td>...</td>\n",
       "      <td>...</td>\n",
       "      <td>...</td>\n",
       "    </tr>\n",
       "    <tr>\n",
       "      <td>238</td>\n",
       "      <td>2020-01-17</td>\n",
       "      <td>29.88</td>\n",
       "      <td>29.98</td>\n",
       "      <td>USD</td>\n",
       "    </tr>\n",
       "    <tr>\n",
       "      <td>239</td>\n",
       "      <td>2020-01-20</td>\n",
       "      <td>29.90</td>\n",
       "      <td>30.00</td>\n",
       "      <td>USD</td>\n",
       "    </tr>\n",
       "    <tr>\n",
       "      <td>240</td>\n",
       "      <td>2020-01-21</td>\n",
       "      <td>29.96</td>\n",
       "      <td>30.06</td>\n",
       "      <td>USD</td>\n",
       "    </tr>\n",
       "    <tr>\n",
       "      <td>241</td>\n",
       "      <td>2020-01-22</td>\n",
       "      <td>29.96</td>\n",
       "      <td>30.06</td>\n",
       "      <td>USD</td>\n",
       "    </tr>\n",
       "    <tr>\n",
       "      <td>242</td>\n",
       "      <td>2020-01-30</td>\n",
       "      <td>30.22</td>\n",
       "      <td>30.32</td>\n",
       "      <td>USD</td>\n",
       "    </tr>\n",
       "  </tbody>\n",
       "</table>\n",
       "<p>1215 rows × 4 columns</p>\n",
       "</div>"
      ],
      "text/plain": [
       "           Date  SellingRate  BuyingRate currency\n",
       "0    2019-01-31        22.27       22.47      AUD\n",
       "1    2019-02-01        22.22       22.42      AUD\n",
       "2    2019-02-11        21.69       21.89      AUD\n",
       "3    2019-02-12        21.76       21.96      AUD\n",
       "4    2019-02-13        21.83       22.03      AUD\n",
       "..          ...          ...         ...      ...\n",
       "238  2020-01-17        29.88       29.98      USD\n",
       "239  2020-01-20        29.90       30.00      USD\n",
       "240  2020-01-21        29.96       30.06      USD\n",
       "241  2020-01-22        29.96       30.06      USD\n",
       "242  2020-01-30        30.22       30.32      USD\n",
       "\n",
       "[1215 rows x 4 columns]"
      ]
     },
     "execution_count": 8,
     "metadata": {},
     "output_type": "execute_result"
    }
   ],
   "source": [
    "currency=pd.DataFrame()\n",
    "for file in allFileList:\n",
    "    currency=pd.concat((currency,pd.read_csv(yourPath+file)),axis=0)\n",
    "\n",
    "currency"
   ]
  },
  {
   "cell_type": "code",
   "execution_count": 9,
   "metadata": {},
   "outputs": [],
   "source": [
    "currency.to_csv('currency.csv')"
   ]
  }
 ],
 "metadata": {
  "kernelspec": {
   "display_name": "Python 3",
   "language": "python",
   "name": "python3"
  },
  "language_info": {
   "codemirror_mode": {
    "name": "ipython",
    "version": 3
   },
   "file_extension": ".py",
   "mimetype": "text/x-python",
   "name": "python",
   "nbconvert_exporter": "python",
   "pygments_lexer": "ipython3",
   "version": "3.7.4"
  }
 },
 "nbformat": 4,
 "nbformat_minor": 2
}
